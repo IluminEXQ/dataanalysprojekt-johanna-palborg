{
 "cells": [
  {
   "cell_type": "code",
   "execution_count": 15,
   "metadata": {},
   "outputs": [
    {
     "name": "stdout",
     "output_type": "stream",
     "text": [
      "  Age_Group  Total_Cases  Total_ICU_Admissions  Total_Deaths\n",
      "0       0-9         9127                    22             7\n",
      "1     10-19        62180                    35             3\n",
      "2     20-29       107936                   142            15\n",
      "3     30-39       107508                   194            33\n",
      "4     40-49       109903                   483            81\n",
      "5     50-59       101188                  1084           261\n",
      "6     60-69        53511                  1438           721\n",
      "7     70-79        26476                  1259          2605\n",
      "8     80-89        20538                   329          5239\n",
      "9       90+         9980                     7          3463\n"
     ]
    }
   ],
   "source": [
    "import pandas as pd \r\n",
    "import numpy as np \r\n",
    "\r\n",
    "df = pd.read_csv(\"../data/National_Total_Deaths_by_Age_Group.csv\")\r\n",
    "\r\n",
    "print(df)\r\n"
   ]
  },
  {
   "cell_type": "code",
   "execution_count": 16,
   "metadata": {},
   "outputs": [
    {
     "name": "stdout",
     "output_type": "stream",
     "text": [
      "   Gender  Total_Cases  Total_ICU_Admissions  Total_Deaths\n",
      "0    Male       288507                  3582          6657\n",
      "1  Female       319641                  1411          5771\n"
     ]
    }
   ],
   "source": [
    "import pandas as pd\r\n",
    "import numpy as np\r\n",
    "\r\n",
    "df = pd.read_csv(\"../data/Gender_Data.csv\")\r\n",
    "\r\n",
    "print(df)"
   ]
  }
 ],
 "metadata": {
  "kernelspec": {
   "display_name": "Python 3.8.3 64-bit ('base': conda)",
   "name": "python383jvsc74a57bd09165862904cd3b3af446efd2881d8b1fe2245a6082c42151547c5c2c16c835e5"
  },
  "language_info": {
   "codemirror_mode": {
    "name": "ipython",
    "version": 3
   },
   "file_extension": ".py",
   "mimetype": "text/x-python",
   "name": "python",
   "nbconvert_exporter": "python",
   "pygments_lexer": "ipython3",
   "version": "3.8.3"
  },
  "orig_nbformat": 2
 },
 "nbformat": 4,
 "nbformat_minor": 2
}